{
  "nbformat": 4,
  "nbformat_minor": 0,
  "metadata": {
    "colab": {
      "provenance": [],
      "authorship_tag": "ABX9TyMXkB3eZKvnIMlW521rAds9",
      "include_colab_link": true
    },
    "kernelspec": {
      "name": "python3",
      "display_name": "Python 3"
    },
    "language_info": {
      "name": "python"
    }
  },
  "cells": [
    {
      "cell_type": "markdown",
      "metadata": {
        "id": "view-in-github",
        "colab_type": "text"
      },
      "source": [
        "<a href=\"https://colab.research.google.com/github/kishore2005-k/PHASE-05/blob/main/PHASE%205.ipynb\" target=\"_parent\"><img src=\"https://colab.research.google.com/assets/colab-badge.svg\" alt=\"Open In Colab\"/></a>"
      ]
    },
    {
      "cell_type": "code",
      "execution_count": 1,
      "metadata": {
        "colab": {
          "base_uri": "https://localhost:8080/"
        },
        "id": "RPVZzFHcX-cz",
        "outputId": "b766cb4b-3ef9-4a79-89ca-96f5d25ee108"
      },
      "outputs": [
        {
          "output_type": "stream",
          "name": "stdout",
          "text": [
            "Optimized Travel Times from All Nodes:\n",
            "\n",
            "From A:\n",
            "  to A: 0 units\n",
            "  to B: 3 units\n",
            "  to C: 2 units\n",
            "  to D: 8 units\n",
            "  to E: 10 units\n",
            "  to F: 13 units\n",
            "------------------------------\n",
            "From B:\n",
            "  to A: 3 units\n",
            "  to B: 0 units\n",
            "  to C: 1 units\n",
            "  to D: 5 units\n",
            "  to E: 7 units\n",
            "  to F: 10 units\n",
            "------------------------------\n",
            "From C:\n",
            "  to A: 2 units\n",
            "  to B: 1 units\n",
            "  to C: 0 units\n",
            "  to D: 6 units\n",
            "  to E: 8 units\n",
            "  to F: 11 units\n",
            "------------------------------\n",
            "From D:\n",
            "  to A: 8 units\n",
            "  to B: 5 units\n",
            "  to C: 6 units\n",
            "  to D: 0 units\n",
            "  to E: 2 units\n",
            "  to F: 5 units\n",
            "------------------------------\n",
            "From E:\n",
            "  to A: 10 units\n",
            "  to B: 7 units\n",
            "  to C: 8 units\n",
            "  to D: 2 units\n",
            "  to E: 0 units\n",
            "  to F: 3 units\n",
            "------------------------------\n",
            "From F:\n",
            "  to A: 13 units\n",
            "  to B: 10 units\n",
            "  to C: 11 units\n",
            "  to D: 5 units\n",
            "  to E: 3 units\n",
            "  to F: 0 units\n",
            "------------------------------\n"
          ]
        }
      ],
      "source": [
        "\n",
        "import heapq\n",
        "\n",
        "class TrafficNetwork:\n",
        "    def __init__(self):\n",
        "        # Define the road network as a graph (adjacency list)\n",
        "        # Format: node: [(neighbor, travel_time), ...]\n",
        "        self.graph = {\n",
        "            'A': [('B', 4), ('C', 2)],\n",
        "            'B': [('A', 4), ('C', 1), ('D', 5)],\n",
        "            'C': [('A', 2), ('B', 1), ('D', 8), ('E', 10)],\n",
        "            'D': [('B', 5), ('C', 8), ('E', 2), ('F', 6)],\n",
        "            'E': [('C', 10), ('D', 2), ('F', 3)],\n",
        "            'F': [('D', 6), ('E', 3)]\n",
        "        }\n",
        "\n",
        "    def dijkstra(self, start):\n",
        "        # Initialize distances with infinity\n",
        "        distances = {node: float('inf') for node in self.graph}\n",
        "        distances[start] = 0\n",
        "        pq = [(0, start)]  # Priority queue\n",
        "\n",
        "        while pq:\n",
        "            current_distance, current_node = heapq.heappop(pq)\n",
        "\n",
        "            if current_distance > distances[current_node]:\n",
        "                continue\n",
        "\n",
        "            for neighbor, weight in self.graph[current_node]:\n",
        "                distance = current_distance + weight\n",
        "\n",
        "                if distance < distances[neighbor]:\n",
        "                    distances[neighbor] = distance\n",
        "                    heapq.heappush(pq, (distance, neighbor))\n",
        "\n",
        "        return distances\n",
        "\n",
        "    def optimize_traffic_flow(self):\n",
        "        print(\"Optimized Travel Times from All Nodes:\\n\")\n",
        "        for node in self.graph:\n",
        "            shortest_paths = self.dijkstra(node)\n",
        "            print(f\"From {node}:\")\n",
        "            for dest, time in shortest_paths.items():\n",
        "                print(f\"  to {dest}: {time} units\")\n",
        "            print(\"-\" * 30)\n",
        "\n",
        "# Run the optimization\n",
        "if __name__ == \"__main__\":\n",
        "    network = TrafficNetwork()\n",
        "    network.optimize_traffic_flow()"
      ]
    }
  ]
}